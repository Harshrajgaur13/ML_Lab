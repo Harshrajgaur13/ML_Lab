{
  "nbformat": 4,
  "nbformat_minor": 0,
  "metadata": {
    "colab": {
      "provenance": [],
      "authorship_tag": "ABX9TyM/YbYBB9PDiGwVQlR7fTcy",
      "include_colab_link": true
    },
    "kernelspec": {
      "name": "python3",
      "display_name": "Python 3"
    },
    "language_info": {
      "name": "python"
    }
  },
  "cells": [
    {
      "cell_type": "markdown",
      "metadata": {
        "id": "view-in-github",
        "colab_type": "text"
      },
      "source": [
        "<a href=\"https://colab.research.google.com/github/Harshrajgaur13/ML_Lab/blob/main/ML_Lab5.ipynb\" target=\"_parent\"><img src=\"https://colab.research.google.com/assets/colab-badge.svg\" alt=\"Open In Colab\"/></a>"
      ]
    },
    {
      "cell_type": "markdown",
      "source": [
        "PCA\n",
        "Linerar Regression\n",
        "features  s1 s2 s3 s4\n",
        "x 4 8 13 7\n",
        "y 11 4 5 14\n",
        "\n",
        "write a program in python to Principal Component Analysis"
      ],
      "metadata": {
        "id": "uE7fKGOJIVuQ"
      }
    },
    {
      "cell_type": "code",
      "source": [
        "import numpy as np\n",
        "import pandas as pd\n",
        "from sklearn.preprocessing import StandardScaler\n",
        "\n",
        "# Define the dataset\n",
        "features = ['s1', 's2', 's3', 's4']\n",
        "data = np.array([\n",
        "    [4, 8, 13, 7],   # x\n",
        "    [11, 4, 5, 14]    # y\n",
        "])\n",
        "\n",
        "# Standardize the data\n",
        "scaler = StandardScaler()\n",
        "data_scaled = scaler.fit_transform(data)\n",
        "\n",
        "# Compute covariance matrix\n",
        "cov_matrix = np.cov(data_scaled, rowvar=False)\n",
        "\n",
        "# Compute eigenvalues and eigenvectors\n",
        "eigenvalues, eigenvectors = np.linalg.eig(cov_matrix)\n",
        "\n",
        "# Sort eigenvalues and corresponding eigenvectors\n",
        "sorted_indices = np.argsort(eigenvalues)[::-1]\n",
        "eigenvalues = eigenvalues[sorted_indices]\n",
        "eigenvectors = eigenvectors[:, sorted_indices]\n",
        "\n",
        "# Project data onto principal components\n",
        "principal_components = np.dot(data_scaled, eigenvectors[:, :2])  # Reduce to 2 components\n",
        "\n",
        "# Create a DataFrame for the results\n",
        "pca_df = pd.DataFrame(principal_components, columns=['PC1', 'PC2'])\n",
        "\n",
        "# Display results\n",
        "print(\"Explained Variance:\", eigenvalues[:2] / np.sum(eigenvalues))\n",
        "print(\"Principal Components:\")\n",
        "print(pca_df)\n",
        "print(eigenvalues)\n",
        "print(eigenvectors)\n"
      ],
      "metadata": {
        "colab": {
          "base_uri": "https://localhost:8080/"
        },
        "id": "xA4Jh1MDKYBy",
        "outputId": "c12ef7fc-79cf-4b35-e804-62dbf08995b5"
      },
      "execution_count": null,
      "outputs": [
        {
          "output_type": "stream",
          "name": "stdout",
          "text": [
            "Explained Variance: [1. 0.]\n",
            "Principal Components:\n",
            "   PC1  PC2\n",
            "0  2.0  0.0\n",
            "1 -2.0  0.0\n",
            "[ 8.0000000e+00  0.0000000e+00  0.0000000e+00 -8.8817842e-16]\n",
            "[[-5.00000000e-01 -3.71854204e-18  3.71854204e-18 -8.66025404e-01]\n",
            " [ 5.00000000e-01  5.77350269e-01 -5.77350269e-01 -2.88675135e-01]\n",
            " [ 5.00000000e-01  2.11324865e-01  7.88675135e-01 -2.88675135e-01]\n",
            " [-5.00000000e-01  7.88675135e-01  2.11324865e-01  2.88675135e-01]]\n"
          ]
        }
      ]
    },
    {
      "cell_type": "code",
      "source": [
        "import numpy as np\n",
        "import pandas as pd\n",
        "from sklearn.decomposition import PCA\n",
        "from sklearn.preprocessing import StandardScaler\n",
        "\n",
        "# Define the dataset\n",
        "features = ['s1', 's2', 's3', 's4']\n",
        "data = np.array([\n",
        "    [4, 8, 13, 7],   # x\n",
        "    [11, 4, 5, 14]    # y\n",
        "])\n",
        "\n",
        "# Standardize the data\n",
        "scaler = StandardScaler()\n",
        "data_scaled = scaler.fit_transform(data)\n",
        "\n",
        "# Apply PCA\n",
        "pca = PCA(n_components=2)  # Reduce to 2 components\n",
        "principal_components = pca.fit_transform(data_scaled)\n",
        "\n",
        "# Create a DataFrame for the results\n",
        "pca_df = pd.DataFrame(principal_components, columns=['PC1', 'PC2'])\n",
        "\n",
        "# Display results\n",
        "print(\"Explained Variance Ratio:\", pca.explained_variance_ratio_)\n",
        "print(\"Principal Components:\")\n",
        "print(pca_df)\n"
      ],
      "metadata": {
        "colab": {
          "base_uri": "https://localhost:8080/"
        },
        "id": "PjddepHxKnZk",
        "outputId": "43e69b13-5173-4d51-aae2-9a6c3a219fac"
      },
      "execution_count": null,
      "outputs": [
        {
          "output_type": "stream",
          "name": "stdout",
          "text": [
            "Explained Variance Ratio: [1.00000000e+00 2.31111593e-33]\n",
            "Principal Components:\n",
            "   PC1           PC2\n",
            "0  2.0 -9.614813e-17\n",
            "1 -2.0 -9.614813e-17\n"
          ]
        }
      ]
    },
    {
      "cell_type": "code",
      "source": [
        "x = [4,8,13,7]\n",
        "y = [11,4,5,14]\n",
        "x_mean=0\n",
        "for(i=0;i<5;i++):\n",
        "  x_mean=x_mean+x[i]"
      ],
      "metadata": {
        "id": "3kqQj38LL-70"
      },
      "execution_count": null,
      "outputs": []
    },
    {
      "cell_type": "code",
      "source": [
        "# Define the dataset\n",
        "features = ['s1', 's2', 's3', 's4']\n",
        "data = [\n",
        "    [4, 8, 13, 7],   # x\n",
        "    [11, 4, 5, 14]    # y\n",
        "]\n",
        "\n",
        "# Compute mean and standard deviation\n",
        "def mean_std(matrix):\n",
        "    mean = [sum(col) / len(col) for col in zip(*matrix)]\n",
        "    std = [(sum((x - m) ** 2 for x in col) / len(col)) ** 0.5 for col, m in zip(zip(*matrix), mean)]\n",
        "    return mean, std\n",
        "\n",
        "# Standardize the data\n",
        "mean, std = mean_std(data)\n",
        "data_scaled = [[(data[i][j] - mean[j]) / std[j] for j in range(len(data[i]))] for i in range(len(data))]\n",
        "\n",
        "# Compute covariance matrix\n",
        "def covariance_matrix(matrix):\n",
        "    rows, cols = len(matrix), len(matrix[0])\n",
        "    cov_matrix = [[0] * cols for _ in range(cols)]\n",
        "    for i in range(cols):\n",
        "        for j in range(cols):\n",
        "            cov_matrix[i][j] = sum(matrix[k][i] * matrix[k][j] for k in range(rows)) / (rows - 1)\n",
        "    return cov_matrix\n",
        "\n",
        "cov_matrix = covariance_matrix(data_scaled)\n",
        "\n",
        "# Compute eigenvalues and eigenvectors\n",
        "def eigendecomposition(matrix):\n",
        "    from math import sqrt\n",
        "    def power_iteration(matrix, num_simulations=100):\n",
        "        b_k = [1] * len(matrix)\n",
        "        for _ in range(num_simulations):\n",
        "            b_k1 = [sum(matrix[i][j] * b_k[j] for j in range(len(matrix))) for i in range(len(matrix))]\n",
        "            norm = sqrt(sum(x**2 for x in b_k1))\n",
        "            b_k = [x / norm for x in b_k1]\n",
        "        eigenvalue = sum(b_k[i] * sum(matrix[i][j] * b_k[j] for j in range(len(matrix))) for i in range(len(matrix)))\n",
        "        return eigenvalue, b_k\n",
        "\n",
        "    eigenvalue, eigenvector = power_iteration(matrix)\n",
        "    return [eigenvalue], [eigenvector]\n",
        "\n",
        "\n",
        "eigenvalues, eigenvectors = eigendecomposition(cov_matrix)\n",
        "\n",
        "# Project data onto principal components\n",
        "def project_data(data, eigenvectors):\n",
        "    return [[sum(data[i][j] * eigenvectors[0][j] for j in range(len(data[i]))) for _ in range(2)] for i in range(len(data))]\n",
        "\n",
        "principal_components = project_data(data_scaled, eigenvectors)\n",
        "\n",
        "# Display results\n",
        "print(\"Explained Variance:\", [eigenvalues[0] / sum(eigenvalues)])\n",
        "print(\"Principal Components:\")\n",
        "for row in principal_components:\n",
        "    print(row)\n"
      ],
      "metadata": {
        "id": "R90pmgqBNEpG"
      },
      "execution_count": null,
      "outputs": []
    }
  ]
}