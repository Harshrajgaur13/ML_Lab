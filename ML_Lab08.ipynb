{
  "nbformat": 4,
  "nbformat_minor": 0,
  "metadata": {
    "colab": {
      "provenance": [],
      "authorship_tag": "ABX9TyPGrLPnctPB73uMpV6myZUl",
      "include_colab_link": true
    },
    "kernelspec": {
      "name": "python3",
      "display_name": "Python 3"
    },
    "language_info": {
      "name": "python"
    }
  },
  "cells": [
    {
      "cell_type": "markdown",
      "metadata": {
        "id": "view-in-github",
        "colab_type": "text"
      },
      "source": [
        "<a href=\"https://colab.research.google.com/github/Harshrajgaur13/ML_Lab/blob/main/ML_Lab08.ipynb\" target=\"_parent\"><img src=\"https://colab.research.google.com/assets/colab-badge.svg\" alt=\"Open In Colab\"/></a>"
      ]
    },
    {
      "cell_type": "code",
      "execution_count": null,
      "metadata": {
        "colab": {
          "base_uri": "https://localhost:8080/",
          "height": 74
        },
        "id": "tUIslmANa-x6",
        "outputId": "31b36553-3f04-4cf1-d1e2-32b163f953e2"
      },
      "outputs": [
        {
          "output_type": "display_data",
          "data": {
            "text/plain": [
              "<IPython.core.display.HTML object>"
            ],
            "text/html": [
              "\n",
              "     <input type=\"file\" id=\"files-50b73d1f-6931-4d02-a933-b17c684b14af\" name=\"files[]\" multiple disabled\n",
              "        style=\"border:none\" />\n",
              "     <output id=\"result-50b73d1f-6931-4d02-a933-b17c684b14af\">\n",
              "      Upload widget is only available when the cell has been executed in the\n",
              "      current browser session. Please rerun this cell to enable.\n",
              "      </output>\n",
              "      <script>// Copyright 2017 Google LLC\n",
              "//\n",
              "// Licensed under the Apache License, Version 2.0 (the \"License\");\n",
              "// you may not use this file except in compliance with the License.\n",
              "// You may obtain a copy of the License at\n",
              "//\n",
              "//      http://www.apache.org/licenses/LICENSE-2.0\n",
              "//\n",
              "// Unless required by applicable law or agreed to in writing, software\n",
              "// distributed under the License is distributed on an \"AS IS\" BASIS,\n",
              "// WITHOUT WARRANTIES OR CONDITIONS OF ANY KIND, either express or implied.\n",
              "// See the License for the specific language governing permissions and\n",
              "// limitations under the License.\n",
              "\n",
              "/**\n",
              " * @fileoverview Helpers for google.colab Python module.\n",
              " */\n",
              "(function(scope) {\n",
              "function span(text, styleAttributes = {}) {\n",
              "  const element = document.createElement('span');\n",
              "  element.textContent = text;\n",
              "  for (const key of Object.keys(styleAttributes)) {\n",
              "    element.style[key] = styleAttributes[key];\n",
              "  }\n",
              "  return element;\n",
              "}\n",
              "\n",
              "// Max number of bytes which will be uploaded at a time.\n",
              "const MAX_PAYLOAD_SIZE = 100 * 1024;\n",
              "\n",
              "function _uploadFiles(inputId, outputId) {\n",
              "  const steps = uploadFilesStep(inputId, outputId);\n",
              "  const outputElement = document.getElementById(outputId);\n",
              "  // Cache steps on the outputElement to make it available for the next call\n",
              "  // to uploadFilesContinue from Python.\n",
              "  outputElement.steps = steps;\n",
              "\n",
              "  return _uploadFilesContinue(outputId);\n",
              "}\n",
              "\n",
              "// This is roughly an async generator (not supported in the browser yet),\n",
              "// where there are multiple asynchronous steps and the Python side is going\n",
              "// to poll for completion of each step.\n",
              "// This uses a Promise to block the python side on completion of each step,\n",
              "// then passes the result of the previous step as the input to the next step.\n",
              "function _uploadFilesContinue(outputId) {\n",
              "  const outputElement = document.getElementById(outputId);\n",
              "  const steps = outputElement.steps;\n",
              "\n",
              "  const next = steps.next(outputElement.lastPromiseValue);\n",
              "  return Promise.resolve(next.value.promise).then((value) => {\n",
              "    // Cache the last promise value to make it available to the next\n",
              "    // step of the generator.\n",
              "    outputElement.lastPromiseValue = value;\n",
              "    return next.value.response;\n",
              "  });\n",
              "}\n",
              "\n",
              "/**\n",
              " * Generator function which is called between each async step of the upload\n",
              " * process.\n",
              " * @param {string} inputId Element ID of the input file picker element.\n",
              " * @param {string} outputId Element ID of the output display.\n",
              " * @return {!Iterable<!Object>} Iterable of next steps.\n",
              " */\n",
              "function* uploadFilesStep(inputId, outputId) {\n",
              "  const inputElement = document.getElementById(inputId);\n",
              "  inputElement.disabled = false;\n",
              "\n",
              "  const outputElement = document.getElementById(outputId);\n",
              "  outputElement.innerHTML = '';\n",
              "\n",
              "  const pickedPromise = new Promise((resolve) => {\n",
              "    inputElement.addEventListener('change', (e) => {\n",
              "      resolve(e.target.files);\n",
              "    });\n",
              "  });\n",
              "\n",
              "  const cancel = document.createElement('button');\n",
              "  inputElement.parentElement.appendChild(cancel);\n",
              "  cancel.textContent = 'Cancel upload';\n",
              "  const cancelPromise = new Promise((resolve) => {\n",
              "    cancel.onclick = () => {\n",
              "      resolve(null);\n",
              "    };\n",
              "  });\n",
              "\n",
              "  // Wait for the user to pick the files.\n",
              "  const files = yield {\n",
              "    promise: Promise.race([pickedPromise, cancelPromise]),\n",
              "    response: {\n",
              "      action: 'starting',\n",
              "    }\n",
              "  };\n",
              "\n",
              "  cancel.remove();\n",
              "\n",
              "  // Disable the input element since further picks are not allowed.\n",
              "  inputElement.disabled = true;\n",
              "\n",
              "  if (!files) {\n",
              "    return {\n",
              "      response: {\n",
              "        action: 'complete',\n",
              "      }\n",
              "    };\n",
              "  }\n",
              "\n",
              "  for (const file of files) {\n",
              "    const li = document.createElement('li');\n",
              "    li.append(span(file.name, {fontWeight: 'bold'}));\n",
              "    li.append(span(\n",
              "        `(${file.type || 'n/a'}) - ${file.size} bytes, ` +\n",
              "        `last modified: ${\n",
              "            file.lastModifiedDate ? file.lastModifiedDate.toLocaleDateString() :\n",
              "                                    'n/a'} - `));\n",
              "    const percent = span('0% done');\n",
              "    li.appendChild(percent);\n",
              "\n",
              "    outputElement.appendChild(li);\n",
              "\n",
              "    const fileDataPromise = new Promise((resolve) => {\n",
              "      const reader = new FileReader();\n",
              "      reader.onload = (e) => {\n",
              "        resolve(e.target.result);\n",
              "      };\n",
              "      reader.readAsArrayBuffer(file);\n",
              "    });\n",
              "    // Wait for the data to be ready.\n",
              "    let fileData = yield {\n",
              "      promise: fileDataPromise,\n",
              "      response: {\n",
              "        action: 'continue',\n",
              "      }\n",
              "    };\n",
              "\n",
              "    // Use a chunked sending to avoid message size limits. See b/62115660.\n",
              "    let position = 0;\n",
              "    do {\n",
              "      const length = Math.min(fileData.byteLength - position, MAX_PAYLOAD_SIZE);\n",
              "      const chunk = new Uint8Array(fileData, position, length);\n",
              "      position += length;\n",
              "\n",
              "      const base64 = btoa(String.fromCharCode.apply(null, chunk));\n",
              "      yield {\n",
              "        response: {\n",
              "          action: 'append',\n",
              "          file: file.name,\n",
              "          data: base64,\n",
              "        },\n",
              "      };\n",
              "\n",
              "      let percentDone = fileData.byteLength === 0 ?\n",
              "          100 :\n",
              "          Math.round((position / fileData.byteLength) * 100);\n",
              "      percent.textContent = `${percentDone}% done`;\n",
              "\n",
              "    } while (position < fileData.byteLength);\n",
              "  }\n",
              "\n",
              "  // All done.\n",
              "  yield {\n",
              "    response: {\n",
              "      action: 'complete',\n",
              "    }\n",
              "  };\n",
              "}\n",
              "\n",
              "scope.google = scope.google || {};\n",
              "scope.google.colab = scope.google.colab || {};\n",
              "scope.google.colab._files = {\n",
              "  _uploadFiles,\n",
              "  _uploadFilesContinue,\n",
              "};\n",
              "})(self);\n",
              "</script> "
            ]
          },
          "metadata": {}
        },
        {
          "output_type": "stream",
          "name": "stdout",
          "text": [
            "Saving Result-Experiment.xlsx to Result-Experiment (3).xlsx\n"
          ]
        }
      ],
      "source": [
        "import pandas as pd\n",
        "import matplotlib.pyplot as plt\n",
        "import seaborn as sns\n",
        "# Upload the file\n",
        "from google.colab import files\n",
        "uploaded = files.upload()  # Prompts to upload Excel file\n",
        "\n",
        "# Load the file into a Pandas DataFrame\n",
        "Dataset = list(uploaded.keys())[0]  # Gets the uploaded file name\n",
        "df = pd.read_excel(Dataset)"
      ]
    },
    {
      "cell_type": "code",
      "source": [
        "print(df)"
      ],
      "metadata": {
        "colab": {
          "base_uri": "https://localhost:8080/"
        },
        "id": "5Jtl5gl9cUvc",
        "outputId": "7308ef63-cfaf-4c64-d6df-e3dd932b1c51"
      },
      "execution_count": null,
      "outputs": [
        {
          "output_type": "stream",
          "name": "stdout",
          "text": [
            "   Unnamed: 0 Unnamed: 1 Unnamed: 2 Unnamed: 3 Unnamed: 4    ML Lab  \\\n",
            "0      S. No.   Internal   External      Total       Grde  Internal   \n",
            "1           1         37         36         73          F      25.5   \n",
            "2           2         61         75        136         B+      30.5   \n",
            "3           3         50         48         98          C        27   \n",
            "4           4         57         48        105          C        33   \n",
            "..        ...        ...        ...        ...        ...       ...   \n",
            "56         56         57         33         90          C      29.5   \n",
            "57         57         34         AB         34         AB      23.5   \n",
            "58         58         46         32         78          F      22.5   \n",
            "59         59         51         31         82          P        29   \n",
            "60         60         41         39         80          P        23   \n",
            "\n",
            "   Unnamed: 6 Unnamed: 7 Unnamed: 8 Project Phase 1 Unnamed: 10 Unnamed: 11  \n",
            "0    External      Total       Grde        External       Total        Grde  \n",
            "1          28       53.5          C              36          36          B+  \n",
            "2          38       68.5         B+              41          41           A  \n",
            "3          32         59          B              37          37          B+  \n",
            "4          38         71         B+              37          37          B+  \n",
            "..        ...        ...        ...             ...         ...         ...  \n",
            "56         34       63.5          B              32          32           B  \n",
            "57         29       52.5          C              35          35          B+  \n",
            "58         32       54.5          C              35          35          B+  \n",
            "59         30         59          B              28          28           B  \n",
            "60         34         57          B              29          29           B  \n",
            "\n",
            "[61 rows x 12 columns]\n"
          ]
        }
      ]
    },
    {
      "cell_type": "code",
      "source": [
        "# Define the mapping of grades to numerical values\n",
        "grade_mapping = {\n",
        "    \"O\": 10, \"A+\": 9, \"A\": 8, \"B+\": 7, \"B\": 6,\n",
        "    \"C\": 5, \"D\": 4, \"F\": 3, \"P\": 4, \"DET\" : 0, \"DB\" :0, \"AB\":0\n",
        "}\n",
        "\n",
        "# Replace grades in columns 5, 9, and 12 (index 4, 8, and 11)\n",
        "columns_to_replace = [4, 8, 11]\n",
        "for col in columns_to_replace:\n",
        "    df.iloc[:, col] = df.iloc[:, col].map(grade_mapping).fillna(df.iloc[:, col])\n",
        "\n",
        "\n"
      ],
      "metadata": {
        "id": "jfnEmsM5d2St"
      },
      "execution_count": null,
      "outputs": []
    },
    {
      "cell_type": "code",
      "source": [
        "print(df)"
      ],
      "metadata": {
        "colab": {
          "base_uri": "https://localhost:8080/"
        },
        "id": "B6pt7tmRd4_Y",
        "outputId": "ffb352b5-c275-4df4-bb29-9d0743528458"
      },
      "execution_count": null,
      "outputs": [
        {
          "output_type": "stream",
          "name": "stdout",
          "text": [
            "   Unnamed: 0 Unnamed: 1 Unnamed: 2 Unnamed: 3 Unnamed: 4    ML Lab  \\\n",
            "0      S. No.   Internal   External      Total       Grde  Internal   \n",
            "1           1         37         36         73        3.0      25.5   \n",
            "2           2         61         75        136        7.0      30.5   \n",
            "3           3         50         48         98        5.0        27   \n",
            "4           4         57         48        105        5.0        33   \n",
            "..        ...        ...        ...        ...        ...       ...   \n",
            "56         56         57         33         90        5.0      29.5   \n",
            "57         57         34         AB         34         AB      23.5   \n",
            "58         58         46         32         78        3.0      22.5   \n",
            "59         59         51         31         82          P        29   \n",
            "60         60         41         39         80          P        23   \n",
            "\n",
            "   Unnamed: 6 Unnamed: 7 Unnamed: 8 Project Phase 1 Unnamed: 10 Unnamed: 11  \n",
            "0    External      Total       Grde        External       Total        Grde  \n",
            "1          28       53.5        5.0              36          36         7.0  \n",
            "2          38       68.5        7.0              41          41         8.0  \n",
            "3          32         59        6.0              37          37         7.0  \n",
            "4          38         71        7.0              37          37         7.0  \n",
            "..        ...        ...        ...             ...         ...         ...  \n",
            "56         34       63.5        6.0              32          32         6.0  \n",
            "57         29       52.5        5.0              35          35         7.0  \n",
            "58         32       54.5        5.0              35          35         7.0  \n",
            "59         30         59        6.0              28          28         6.0  \n",
            "60         34         57        6.0              29          29         6.0  \n",
            "\n",
            "[61 rows x 12 columns]\n"
          ]
        }
      ]
    },
    {
      "cell_type": "code",
      "source": [
        "# Save the modified DataFrame to a new Excel file\n",
        "new_file_path = 'modified_data_expirement_1_file.xlsx'  # Specify the new file path\n",
        "df.to_excel(new_file_path, index=False)  # Save to Excel without index\n",
        "\n",
        "# Download the new file\n",
        "files.download(new_file_path)\n"
      ],
      "metadata": {
        "colab": {
          "base_uri": "https://localhost:8080/",
          "height": 17
        },
        "id": "-06BfWZnf1er",
        "outputId": "ce8fcdf3-3122-4829-8f4e-7e74e985e5c5"
      },
      "execution_count": null,
      "outputs": [
        {
          "output_type": "display_data",
          "data": {
            "text/plain": [
              "<IPython.core.display.Javascript object>"
            ],
            "application/javascript": [
              "\n",
              "    async function download(id, filename, size) {\n",
              "      if (!google.colab.kernel.accessAllowed) {\n",
              "        return;\n",
              "      }\n",
              "      const div = document.createElement('div');\n",
              "      const label = document.createElement('label');\n",
              "      label.textContent = `Downloading \"${filename}\": `;\n",
              "      div.appendChild(label);\n",
              "      const progress = document.createElement('progress');\n",
              "      progress.max = size;\n",
              "      div.appendChild(progress);\n",
              "      document.body.appendChild(div);\n",
              "\n",
              "      const buffers = [];\n",
              "      let downloaded = 0;\n",
              "\n",
              "      const channel = await google.colab.kernel.comms.open(id);\n",
              "      // Send a message to notify the kernel that we're ready.\n",
              "      channel.send({})\n",
              "\n",
              "      for await (const message of channel.messages) {\n",
              "        // Send a message to notify the kernel that we're ready.\n",
              "        channel.send({})\n",
              "        if (message.buffers) {\n",
              "          for (const buffer of message.buffers) {\n",
              "            buffers.push(buffer);\n",
              "            downloaded += buffer.byteLength;\n",
              "            progress.value = downloaded;\n",
              "          }\n",
              "        }\n",
              "      }\n",
              "      const blob = new Blob(buffers, {type: 'application/binary'});\n",
              "      const a = document.createElement('a');\n",
              "      a.href = window.URL.createObjectURL(blob);\n",
              "      a.download = filename;\n",
              "      div.appendChild(a);\n",
              "      a.click();\n",
              "      div.remove();\n",
              "    }\n",
              "  "
            ]
          },
          "metadata": {}
        },
        {
          "output_type": "display_data",
          "data": {
            "text/plain": [
              "<IPython.core.display.Javascript object>"
            ],
            "application/javascript": [
              "download(\"download_5d7d2ac8-e8ae-4552-9a59-f99b1d04374e\", \"modified_data_expirement_1_file.xlsx\", 8127)"
            ]
          },
          "metadata": {}
        }
      ]
    }
  ]
}